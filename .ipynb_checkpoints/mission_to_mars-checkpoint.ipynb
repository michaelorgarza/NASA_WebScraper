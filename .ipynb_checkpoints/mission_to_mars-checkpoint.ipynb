{
 "cells": [
  {
   "cell_type": "markdown",
   "metadata": {},
   "source": [
    "# Mission to Mars"
   ]
  },
  {
   "cell_type": "code",
   "execution_count": 30,
   "metadata": {},
   "outputs": [],
   "source": [
    "# dependencies \n",
    "from bs4 import BeautifulSoup as bs\n",
    "from requests import get \n",
    "import requests as req\n",
    "import scrapy\n",
    "from pprint import pprint\n",
    "import pandas as pd\n",
    "import splinter\n",
    "from splinter import Browser"
   ]
  },
  {
   "cell_type": "markdown",
   "metadata": {},
   "source": [
    "## Martian News from NASA"
   ]
  },
  {
   "cell_type": "code",
   "execution_count": 31,
   "metadata": {},
   "outputs": [
    {
     "name": "stdout",
     "output_type": "stream",
     "text": [
      "The title: \"Opportunity Hunkers Down During Dust Storm\"\n",
      "----------------------------------------------------------------------------------------------------\n",
      "The paragraph text: \"As of Tuesday morning, June 19, the Martian dust storm had grown in size and was officially a \"planet-encircling\" (or \"global\") dust event.\"\n"
     ]
    }
   ],
   "source": [
    "# first url to scrape and retrieve page with the requests module\n",
    "url = \"https://mars.nasa.gov/news/\" \n",
    "response = req.get(url)\n",
    "\n",
    "# creating bs object\n",
    "html_soup = bs(response.text, 'html.parser')\n",
    "\n",
    "# extract necessary info \n",
    "news_title = html_soup.find('div', class_='content_title').text.strip()\n",
    "news_p = html_soup.find('div', class_=\"rollover_description_inner\").text.strip()\n",
    "\n",
    "print('The title: \"{}\"'.format(news_title))\n",
    "print(\"-\"*100)\n",
    "print('The paragraph text: \"{}\"'.format(news_p))"
   ]
  },
  {
   "cell_type": "markdown",
   "metadata": {},
   "source": [
    "## JPL Space Images"
   ]
  },
  {
   "cell_type": "code",
   "execution_count": 38,
   "metadata": {},
   "outputs": [],
   "source": [
    "# Navigation \n",
    "executable_path = {'executable_path' : '/Users/michaelorgarza/chromedriver'}\n",
    "browser = Browser('chrome', **executable_path, headless=False)\n",
    "url_2 = \"https://www.jpl.nasa.gov/spaceimages/?search=&category=Mars\"\n",
    "browser.visit(url_2)"
   ]
  },
  {
   "cell_type": "code",
   "execution_count": 51,
   "metadata": {},
   "outputs": [
    {
     "name": "stdout",
     "output_type": "stream",
     "text": [
      "https://www.jpl.nasa.gov/spaceimages/images/largesize/PIA16883_hires.jpg\n"
     ]
    }
   ],
   "source": [
    "# second url (JPL) \n",
    "url_2 = \"https://www.jpl.nasa.gov/spaceimages/?search=&category=Mars\"\n",
    "browser.visit(url_2)\n",
    "\n",
    "# creating bs object\n",
    "html = browser.html\n",
    "soup = bs(html, \"html.parser\")\n",
    "\n",
    "# feature image scrapedd\n",
    "browser.click_link_by_partial_text('FULL IMAGE')\n",
    "# browser.click_link_by_partial_text('more info')\n",
    "\n",
    "# bs object\n",
    "jpl_html = browser.html\n",
    "jpl_soup = bs(jpl_html, 'html.parser')\n",
    "\n",
    "# extract info \n",
    "jpl_img = jpl_soup.find('img', class_='fancybox-image')\n",
    "jpl_img_path = jpl_img.get('src')\n",
    "\n",
    "# append img pathway to jpl url \n",
    "recent_mars_img_url = \"https://www.jpl.nasa.gov\" + jpl_img_path\n",
    "print(recent_mars_image_url)\n",
    "\n"
   ]
  },
  {
   "cell_type": "markdown",
   "metadata": {},
   "source": [
    "## Martian Weather from Twitter"
   ]
  },
  {
   "cell_type": "code",
   "execution_count": 53,
   "metadata": {},
   "outputs": [
    {
     "name": "stdout",
     "output_type": "stream",
     "text": [
      "\n",
      "Sol 2108 (2018-07-12), Sunny, high -24C/-11F, low -65C/-84F, pressure at 8.06 hPa, daylight 05:19-17:27\n",
      "\n"
     ]
    }
   ],
   "source": [
    "# take mars twitter weather url, add request module and turn it into a bs object\n",
    "tw_response = req.get(\"https://twitter.com/marswxreport?lang=en\")\n",
    "tw_soup = bs(tw_response.text, 'html.parser')\n",
    "\n",
    "# extract info \n",
    "tw_weather = tw_soup.find_all('div', class_=\"js-tweet-text-container\")\n",
    "\n",
    "# display weather info \n",
    "print(tw_weather[1].text)\n"
   ]
  },
  {
   "cell_type": "markdown",
   "metadata": {},
   "source": [
    "## Martian Facts"
   ]
  },
  {
   "cell_type": "code",
   "execution_count": 58,
   "metadata": {},
   "outputs": [
    {
     "data": {
      "text/html": [
       "<div>\n",
       "<style scoped>\n",
       "    .dataframe tbody tr th:only-of-type {\n",
       "        vertical-align: middle;\n",
       "    }\n",
       "\n",
       "    .dataframe tbody tr th {\n",
       "        vertical-align: top;\n",
       "    }\n",
       "\n",
       "    .dataframe thead th {\n",
       "        text-align: right;\n",
       "    }\n",
       "</style>\n",
       "<table border=\"1\" class=\"dataframe\">\n",
       "  <thead>\n",
       "    <tr style=\"text-align: right;\">\n",
       "      <th></th>\n",
       "      <th>0</th>\n",
       "      <th>1</th>\n",
       "    </tr>\n",
       "  </thead>\n",
       "  <tbody>\n",
       "    <tr>\n",
       "      <th>0</th>\n",
       "      <td>Equatorial Diameter:</td>\n",
       "      <td>6,792 km</td>\n",
       "    </tr>\n",
       "    <tr>\n",
       "      <th>1</th>\n",
       "      <td>Polar Diameter:</td>\n",
       "      <td>6,752 km</td>\n",
       "    </tr>\n",
       "    <tr>\n",
       "      <th>2</th>\n",
       "      <td>Mass:</td>\n",
       "      <td>6.42 x 10^23 kg (10.7% Earth)</td>\n",
       "    </tr>\n",
       "    <tr>\n",
       "      <th>3</th>\n",
       "      <td>Moons:</td>\n",
       "      <td>2 (Phobos &amp; Deimos)</td>\n",
       "    </tr>\n",
       "    <tr>\n",
       "      <th>4</th>\n",
       "      <td>Orbit Distance:</td>\n",
       "      <td>227,943,824 km (1.52 AU)</td>\n",
       "    </tr>\n",
       "    <tr>\n",
       "      <th>5</th>\n",
       "      <td>Orbit Period:</td>\n",
       "      <td>687 days (1.9 years)</td>\n",
       "    </tr>\n",
       "    <tr>\n",
       "      <th>6</th>\n",
       "      <td>Surface Temperature:</td>\n",
       "      <td>-153 to 20 °C</td>\n",
       "    </tr>\n",
       "    <tr>\n",
       "      <th>7</th>\n",
       "      <td>First Record:</td>\n",
       "      <td>2nd millennium BC</td>\n",
       "    </tr>\n",
       "    <tr>\n",
       "      <th>8</th>\n",
       "      <td>Recorded By:</td>\n",
       "      <td>Egyptian astronomers</td>\n",
       "    </tr>\n",
       "  </tbody>\n",
       "</table>\n",
       "</div>"
      ],
      "text/plain": [
       "                      0                              1\n",
       "0  Equatorial Diameter:                       6,792 km\n",
       "1       Polar Diameter:                       6,752 km\n",
       "2                 Mass:  6.42 x 10^23 kg (10.7% Earth)\n",
       "3                Moons:            2 (Phobos & Deimos)\n",
       "4       Orbit Distance:       227,943,824 km (1.52 AU)\n",
       "5         Orbit Period:           687 days (1.9 years)\n",
       "6  Surface Temperature:                  -153 to 20 °C\n",
       "7         First Record:              2nd millennium BC\n",
       "8          Recorded By:           Egyptian astronomers"
      ]
     },
     "execution_count": 58,
     "metadata": {},
     "output_type": "execute_result"
    }
   ],
   "source": [
    "# use space facts url to scrape info. \n",
    "url_4 = req.get(\"https://space-facts.com/mars/\")\n",
    "# constract pandas\n",
    "facts_table = pd.read_html(url_4.text)\n",
    "facts_table\n",
    "# build data frame\n",
    "df = facts_table[0]\n",
    "df"
   ]
  },
  {
   "cell_type": "code",
   "execution_count": 60,
   "metadata": {},
   "outputs": [
    {
     "data": {
      "text/plain": [
       "'<table border=\"1\" class=\"dataframe\">  <thead>    <tr style=\"text-align: right;\">      <th></th>      <th>0</th>      <th>1</th>    </tr>  </thead>  <tbody>    <tr>      <th>0</th>      <td>Equatorial Diameter:</td>      <td>6,792 km</td>    </tr>    <tr>      <th>1</th>      <td>Polar Diameter:</td>      <td>6,752 km</td>    </tr>    <tr>      <th>2</th>      <td>Mass:</td>      <td>6.42 x 10^23 kg (10.7% Earth)</td>    </tr>    <tr>      <th>3</th>      <td>Moons:</td>      <td>2 (Phobos &amp; Deimos)</td>    </tr>    <tr>      <th>4</th>      <td>Orbit Distance:</td>      <td>227,943,824 km (1.52 AU)</td>    </tr>    <tr>      <th>5</th>      <td>Orbit Period:</td>      <td>687 days (1.9 years)</td>    </tr>    <tr>      <th>6</th>      <td>Surface Temperature:</td>      <td>-153 to 20 °C</td>    </tr>    <tr>      <th>7</th>      <td>First Record:</td>      <td>2nd millennium BC</td>    </tr>    <tr>      <th>8</th>      <td>Recorded By:</td>      <td>Egyptian astronomers</td>    </tr>  </tbody></table>'"
      ]
     },
     "execution_count": 60,
     "metadata": {},
     "output_type": "execute_result"
    }
   ],
   "source": [
    "# use fluffy Pandas to convert table data into a html table string \n",
    "mars_html_tablestring = df.to_html()\n",
    "mars_html_tablestring.replace('\\n', '')"
   ]
  },
  {
   "cell_type": "markdown",
   "metadata": {},
   "source": [
    "##  Martian Hemispheres"
   ]
  },
  {
   "cell_type": "code",
   "execution_count": 70,
   "metadata": {},
   "outputs": [
    {
     "name": "stdout",
     "output_type": "stream",
     "text": [
      "[{'title': 'Cerberus Hemisphere ', 'url': 'http://astropedia.astrogeology.usgs.gov/download/Mars/Viking/cerberus_enhanced.tif/full.jpg'}, {'title': 'Schiaparelli Hemisphere ', 'url': 'http://astropedia.astrogeology.usgs.gov/download/Mars/Viking/cerberus_enhanced.tif/full.jpg'}]\n"
     ]
    }
   ],
   "source": [
    "# use USGS astrogeology url to scrape images of martian hemispheres\n",
    "url_5 = \"https://astrogeology.usgs.gov/search/results?q=hemisphere+enhanced&k1=target&v1=Mars\"\n",
    "url_5_req = req.get(url_5)\n",
    "\n",
    "# bs object\n",
    "soup = bs(url_5_req.text, \"html.parser\")\n",
    "returns = soup.find('div', class_=\"collapsible results\")\n",
    "hemispheres = returns.find_all('a')\n",
    "\n",
    "\n",
    "# empty list to hold image urls\n",
    "hemisphere_image_urls =[]\n",
    "\n",
    "products = soup.find(\"div\", class_ = \"result-list\" )\n",
    "hemispheres = products.find_all(\"div\", class_=\"item\")\n",
    "\n",
    "# loop over all each link and append hrefs \n",
    "for hemisphere in hemispheres:\n",
    "    title = hemisphere.find(\"h3\").text\n",
    "    title = title.replace(\"Enhanced\", \"\")\n",
    "    link = \"https://astrogeology.usgs.gov\" + a['href']\n",
    "    browser.visit(link)\n",
    "    \n",
    "    img_page = browser.html\n",
    "    soup = bs(img_page, 'html.parser')\n",
    "    img_link = soup.find('div', class_='downloads').find('li').a['href']\n",
    "    \n",
    "    image_dict = {}\n",
    "    image_dict['title'] = title\n",
    "    image_dict['url'] = img_link\n",
    "    \n",
    "    hemisphere_image_urls.append(image_dict)\n",
    "    \n",
    "print(hemisphere_image_urls)"
   ]
  }
 ],
 "metadata": {
  "kernelspec": {
   "display_name": "Python [conda env:PythonData]",
   "language": "python",
   "name": "conda-env-PythonData-py"
  },
  "language_info": {
   "codemirror_mode": {
    "name": "ipython",
    "version": 3
   },
   "file_extension": ".py",
   "mimetype": "text/x-python",
   "name": "python",
   "nbconvert_exporter": "python",
   "pygments_lexer": "ipython3",
   "version": "3.6.4"
  }
 },
 "nbformat": 4,
 "nbformat_minor": 2
}
